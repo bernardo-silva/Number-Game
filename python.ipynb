{
 "cells": [
  {
   "cell_type": "code",
   "execution_count": 4,
   "id": "1061c4d6-6bab-47db-b3f9-b9ae8c702973",
   "metadata": {},
   "outputs": [],
   "source": [
    "from itertools import permutations, combinations, product"
   ]
  },
  {
   "cell_type": "code",
   "execution_count": 35,
   "id": "0912724c-e635-4ab9-85f5-9f79d3f849ef",
   "metadata": {},
   "outputs": [],
   "source": [
    "numbers = [2,3,7,50,75,100]\n",
    "operations = [\"+\", \"-\", \"*\", \"/\",\"(\",\")\"]\n",
    "goal = 601"
   ]
  },
  {
   "cell_type": "code",
   "execution_count": 36,
   "id": "4000368f-feaf-4910-8865-ab703bacda74",
   "metadata": {},
   "outputs": [
    {
     "name": "stdout",
     "output_type": "stream",
     "text": [
      "CPU times: user 16 µs, sys: 0 ns, total: 16 µs\n",
      "Wall time: 23.6 µs\n"
     ]
    }
   ],
   "source": [
    "%%time\n",
    "def find_goal(numbers, operations, goal):\n",
    "    n_ops = len(numbers)-1\n",
    "    numbers = permutations(numbers)\n",
    "    operations = product(operations, repeat=n_ops)\n",
    "    \n",
    "    operation = \"\"\n",
    "    tested = 0\n",
    "    for N, ops in product(numbers, operations):\n",
    "        tested += 1\n",
    "        operation = str(N[0])\n",
    "        for n, op in zip(N[1:], ops):\n",
    "            operation +=  op + str(n)\n",
    "            try:\n",
    "                result = eval(operation)\n",
    "            except SyntaxError as e:\n",
    "                continue\n",
    "            if(result==goal):\n",
    "                    print(operation)\n",
    "                    # return\n",
    "    print(f\"impossible with {tested}\")"
   ]
  },
  {
   "cell_type": "code",
   "execution_count": 37,
   "id": "e16ee472-a238-4f8f-b6a4-b6ec12a5f06c",
   "metadata": {},
   "outputs": [
    {
     "name": "stdout",
     "output_type": "stream",
     "text": [
      "impossible with 5598720\n",
      "CPU times: user 3min 19s, sys: 16 ms, total: 3min 19s\n",
      "Wall time: 3min 19s\n"
     ]
    }
   ],
   "source": [
    "%%time\n",
    "find_goal(numbers, operations, goal)"
   ]
  },
  {
   "cell_type": "code",
   "execution_count": 7,
   "id": "9e449663-732f-4b10-8130-38cf7db7272f",
   "metadata": {},
   "outputs": [
    {
     "data": {
      "text/plain": [
       "24576.0"
      ]
     },
     "execution_count": 7,
     "metadata": {},
     "output_type": "execute_result"
    }
   ],
   "source": [
    "737280/30"
   ]
  },
  {
   "cell_type": "code",
   "execution_count": 16,
   "id": "9f7c4f4d-f5ca-4050-b6a7-157bb85fe12b",
   "metadata": {},
   "outputs": [
    {
     "data": {
      "text/plain": [
       "1024"
      ]
     },
     "execution_count": 16,
     "metadata": {},
     "output_type": "execute_result"
    }
   ],
   "source": [
    "len(list(product(operations, repeat=5)))"
   ]
  },
  {
   "cell_type": "code",
   "execution_count": 19,
   "id": "56f17722-2260-4706-acc6-5abab7dc0de6",
   "metadata": {},
   "outputs": [
    {
     "data": {
      "text/plain": [
       "720"
      ]
     },
     "execution_count": 19,
     "metadata": {},
     "output_type": "execute_result"
    }
   ],
   "source": [
    "len(list(permutations(numbers)))"
   ]
  },
  {
   "cell_type": "code",
   "execution_count": 20,
   "id": "9bacb558-bcea-462a-b178-6c4b6e6ddc8b",
   "metadata": {},
   "outputs": [
    {
     "data": {
      "text/plain": [
       "737280"
      ]
     },
     "execution_count": 20,
     "metadata": {},
     "output_type": "execute_result"
    }
   ],
   "source": [
    "720*1024"
   ]
  },
  {
   "cell_type": "code",
   "execution_count": null,
   "id": "1aa56aee-6f8c-4ed7-9822-6adff1bb30e9",
   "metadata": {},
   "outputs": [],
   "source": []
  }
 ],
 "metadata": {
  "kernelspec": {
   "display_name": "Python 3 (ipykernel)",
   "language": "python",
   "name": "python3"
  },
  "language_info": {
   "codemirror_mode": {
    "name": "ipython",
    "version": 3
   },
   "file_extension": ".py",
   "mimetype": "text/x-python",
   "name": "python",
   "nbconvert_exporter": "python",
   "pygments_lexer": "ipython3",
   "version": "3.9.14"
  }
 },
 "nbformat": 4,
 "nbformat_minor": 5
}
